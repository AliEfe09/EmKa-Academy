{
  "nbformat": 4,
  "nbformat_minor": 0,
  "metadata": {
    "colab": {
      "provenance": [],
      "name": "numpy_odev_1.ipynb"
    },
    "kernelspec": {
      "name": "python3",
      "display_name": "Python 3"
    },
    "language_info": {
      "name": "python"
    }
  },
  "cells": [
    {
      "cell_type": "code",
      "source": [
        "import numpy as np"
      ],
      "metadata": {
        "id": "XiS2sQZEfnHe"
      },
      "execution_count": null,
      "outputs": []
    },
    {
      "cell_type": "code",
      "execution_count": null,
      "metadata": {
        "colab": {
          "base_uri": "https://localhost:8080/"
        },
        "id": "19lLAF0KfYK6",
        "outputId": "e152eb96-557e-4014-f440-f3dddc9006a6"
      },
      "outputs": [
        {
          "output_type": "execute_result",
          "data": {
            "text/plain": [
              "3"
            ]
          },
          "metadata": {},
          "execution_count": 3
        }
      ],
      "source": [
        "# 1\n",
        "a = np.array([[[1,2],[3,4]],[[5,6],[7,8]]])\n",
        "a.ndim"
      ]
    },
    {
      "cell_type": "code",
      "source": [
        "# 2\n",
        "a = np.arange(34,113,6)\n",
        "a"
      ],
      "metadata": {
        "colab": {
          "base_uri": "https://localhost:8080/"
        },
        "id": "CBM-cMCEgB9w",
        "outputId": "4c12b11e-b5d3-4371-8b61-20b53a564aa1"
      },
      "execution_count": null,
      "outputs": [
        {
          "output_type": "execute_result",
          "data": {
            "text/plain": [
              "array([ 34,  40,  46,  52,  58,  64,  70,  76,  82,  88,  94, 100, 106,\n",
              "       112])"
            ]
          },
          "metadata": {},
          "execution_count": 4
        }
      ]
    },
    {
      "cell_type": "code",
      "source": [
        "# 3\n",
        "a = np.linspace(50,500,91, dtype = int)\n",
        "a"
      ],
      "metadata": {
        "colab": {
          "base_uri": "https://localhost:8080/"
        },
        "id": "K9HSLiP-geNu",
        "outputId": "0bdb466f-f524-4640-a9b6-63d3e3dea3b4"
      },
      "execution_count": null,
      "outputs": [
        {
          "output_type": "execute_result",
          "data": {
            "text/plain": [
              "array([ 50,  55,  60,  65,  70,  75,  80,  85,  90,  95, 100, 105, 110,\n",
              "       115, 120, 125, 130, 135, 140, 145, 150, 155, 160, 165, 170, 175,\n",
              "       180, 185, 190, 195, 200, 205, 210, 215, 220, 225, 230, 235, 240,\n",
              "       245, 250, 255, 260, 265, 270, 275, 280, 285, 290, 295, 300, 305,\n",
              "       310, 315, 320, 325, 330, 335, 340, 345, 350, 355, 360, 365, 370,\n",
              "       375, 380, 385, 390, 395, 400, 405, 410, 415, 420, 425, 430, 435,\n",
              "       440, 445, 450, 455, 460, 465, 470, 475, 480, 485, 490, 495, 500])"
            ]
          },
          "metadata": {},
          "execution_count": 6
        }
      ]
    },
    {
      "cell_type": "code",
      "source": [
        "# 4\n",
        "a = np.logspace(2,4,8)\n",
        "a"
      ],
      "metadata": {
        "colab": {
          "base_uri": "https://localhost:8080/"
        },
        "id": "NsQS66Y5gpZI",
        "outputId": "9e397fb8-530f-41e6-be25-c3530e39b2ba"
      },
      "execution_count": null,
      "outputs": [
        {
          "output_type": "execute_result",
          "data": {
            "text/plain": [
              "array([  100.        ,   193.06977289,   372.75937203,   719.685673  ,\n",
              "        1389.49549437,  2682.69579528,  5179.47467923, 10000.        ])"
            ]
          },
          "metadata": {},
          "execution_count": 10
        }
      ]
    },
    {
      "cell_type": "code",
      "source": [
        "# 5\n",
        "a = np.arange(9).reshape(3,-1)\n",
        "a"
      ],
      "metadata": {
        "colab": {
          "base_uri": "https://localhost:8080/"
        },
        "id": "waftrxOGhIsF",
        "outputId": "6c128a4b-e1d8-4e96-f42b-8954712b0dd4"
      },
      "execution_count": null,
      "outputs": [
        {
          "output_type": "execute_result",
          "data": {
            "text/plain": [
              "array([[0, 1, 2],\n",
              "       [3, 4, 5],\n",
              "       [6, 7, 8]])"
            ]
          },
          "metadata": {},
          "execution_count": 22
        }
      ]
    },
    {
      "cell_type": "code",
      "source": [
        "# 6\n",
        "a = np.zeros((6,6),int)\n",
        "a"
      ],
      "metadata": {
        "colab": {
          "base_uri": "https://localhost:8080/"
        },
        "id": "YlFeNYcehk1k",
        "outputId": "2db887c9-71d0-4ecb-d204-c9de775e42e4"
      },
      "execution_count": null,
      "outputs": [
        {
          "output_type": "execute_result",
          "data": {
            "text/plain": [
              "array([[0, 0, 0, 0, 0, 0],\n",
              "       [0, 0, 0, 0, 0, 0],\n",
              "       [0, 0, 0, 0, 0, 0],\n",
              "       [0, 0, 0, 0, 0, 0],\n",
              "       [0, 0, 0, 0, 0, 0],\n",
              "       [0, 0, 0, 0, 0, 0]])"
            ]
          },
          "metadata": {},
          "execution_count": 26
        }
      ]
    },
    {
      "cell_type": "code",
      "source": [
        "# 7\n",
        "a = np.ones((4,4),int)\n",
        "a"
      ],
      "metadata": {
        "colab": {
          "base_uri": "https://localhost:8080/"
        },
        "id": "wnYY3CnSjOoy",
        "outputId": "82d5d7b9-ec79-4080-f89f-499da2a12c6d"
      },
      "execution_count": null,
      "outputs": [
        {
          "output_type": "execute_result",
          "data": {
            "text/plain": [
              "array([[1, 1, 1, 1],\n",
              "       [1, 1, 1, 1],\n",
              "       [1, 1, 1, 1],\n",
              "       [1, 1, 1, 1]])"
            ]
          },
          "metadata": {},
          "execution_count": 29
        }
      ]
    },
    {
      "cell_type": "code",
      "source": [
        "# 8\n",
        "a = np.eye(8,dtype=int)\n",
        "a"
      ],
      "metadata": {
        "colab": {
          "base_uri": "https://localhost:8080/"
        },
        "id": "6XFbWlxGjv_n",
        "outputId": "d7c0779d-d91f-4dbb-aa1f-e58717beb939"
      },
      "execution_count": null,
      "outputs": [
        {
          "output_type": "execute_result",
          "data": {
            "text/plain": [
              "array([[1, 0, 0, 0, 0, 0, 0, 0],\n",
              "       [0, 1, 0, 0, 0, 0, 0, 0],\n",
              "       [0, 0, 1, 0, 0, 0, 0, 0],\n",
              "       [0, 0, 0, 1, 0, 0, 0, 0],\n",
              "       [0, 0, 0, 0, 1, 0, 0, 0],\n",
              "       [0, 0, 0, 0, 0, 1, 0, 0],\n",
              "       [0, 0, 0, 0, 0, 0, 1, 0],\n",
              "       [0, 0, 0, 0, 0, 0, 0, 1]])"
            ]
          },
          "metadata": {},
          "execution_count": 31
        }
      ]
    },
    {
      "cell_type": "code",
      "source": [
        "# 9\n",
        "a = np.identity(5,int)*3\n",
        "a"
      ],
      "metadata": {
        "colab": {
          "base_uri": "https://localhost:8080/"
        },
        "id": "Qf9n2JYTkKqo",
        "outputId": "3a74e870-f2d7-4ce9-ec91-766cead3e72f"
      },
      "execution_count": null,
      "outputs": [
        {
          "output_type": "execute_result",
          "data": {
            "text/plain": [
              "array([[3, 0, 0, 0, 0],\n",
              "       [0, 3, 0, 0, 0],\n",
              "       [0, 0, 3, 0, 0],\n",
              "       [0, 0, 0, 3, 0],\n",
              "       [0, 0, 0, 0, 3]])"
            ]
          },
          "metadata": {},
          "execution_count": 14
        }
      ]
    },
    {
      "cell_type": "code",
      "source": [
        "# 10\n",
        "a = np.random.rand(6)\n",
        "a"
      ],
      "metadata": {
        "id": "-ajZvq48kpAU",
        "colab": {
          "base_uri": "https://localhost:8080/"
        },
        "outputId": "14652685-b240-4e46-9d89-b4763d57661d"
      },
      "execution_count": null,
      "outputs": [
        {
          "output_type": "execute_result",
          "data": {
            "text/plain": [
              "array([0.61460582, 0.57481834, 0.78102243, 0.84337424, 0.02846861,\n",
              "       0.65105881])"
            ]
          },
          "metadata": {},
          "execution_count": 15
        }
      ]
    },
    {
      "cell_type": "code",
      "source": [
        "# 11\n",
        "a = np.random.randint(50,101,(5,2))\n",
        "a"
      ],
      "metadata": {
        "colab": {
          "base_uri": "https://localhost:8080/"
        },
        "id": "zR8K06QI6Bki",
        "outputId": "8e77196e-6adc-42c6-8306-614436d2e021"
      },
      "execution_count": null,
      "outputs": [
        {
          "output_type": "execute_result",
          "data": {
            "text/plain": [
              "array([[ 97,  93],\n",
              "       [ 52, 100],\n",
              "       [ 72,  85],\n",
              "       [ 75,  93],\n",
              "       [ 58,  79]])"
            ]
          },
          "metadata": {},
          "execution_count": 21
        }
      ]
    },
    {
      "cell_type": "code",
      "source": [
        "# 12\n",
        "a = np.random.randint(100,1000,(2,5,5))\n",
        "print(a.ndim,a.shape)"
      ],
      "metadata": {
        "colab": {
          "base_uri": "https://localhost:8080/"
        },
        "id": "JF4L2MvU6nvp",
        "outputId": "edbd9243-3dca-42a4-bb19-b5077cb26ada"
      },
      "execution_count": null,
      "outputs": [
        {
          "output_type": "stream",
          "name": "stdout",
          "text": [
            "3 (2, 5, 5)\n"
          ]
        }
      ]
    },
    {
      "cell_type": "code",
      "source": [
        "# 13\n",
        "a = np.random.randint(0,101,10)\n",
        "print(a.max(),a.argmax(),a.min(),a.argmin())"
      ],
      "metadata": {
        "colab": {
          "base_uri": "https://localhost:8080/"
        },
        "id": "fOApxtsE6gXi",
        "outputId": "02ff3d1e-5bd2-4253-f051-06765256aa91"
      },
      "execution_count": null,
      "outputs": [
        {
          "output_type": "stream",
          "name": "stdout",
          "text": [
            "97 1 0 2\n"
          ]
        }
      ]
    },
    {
      "cell_type": "code",
      "source": [
        "# 14\n",
        "a = np.random.randint(300,501,(2,2,5))"
      ],
      "metadata": {
        "id": "d5xHWNcN7kRH"
      },
      "execution_count": null,
      "outputs": []
    },
    {
      "cell_type": "code",
      "source": [
        "a"
      ],
      "metadata": {
        "colab": {
          "base_uri": "https://localhost:8080/"
        },
        "id": "Xl5XfYXEYCy2",
        "outputId": "810abbb5-9cbb-42b2-a057-c65b94c29da3"
      },
      "execution_count": null,
      "outputs": [
        {
          "output_type": "execute_result",
          "data": {
            "text/plain": [
              "array([[[424, 344, 450, 497, 380],\n",
              "        [468, 331, 449, 384, 484]],\n",
              "\n",
              "       [[377, 430, 495, 392, 399],\n",
              "        [369, 360, 362, 323, 424]]])"
            ]
          },
          "metadata": {},
          "execution_count": 3
        }
      ]
    },
    {
      "cell_type": "code",
      "source": [
        "print(f\"Max : {a[0][0][3]} \\nMin : {a[1][1][3]}\")"
      ],
      "metadata": {
        "colab": {
          "base_uri": "https://localhost:8080/"
        },
        "id": "N0ejWWO3YEhq",
        "outputId": "132276ab-8369-4b04-cabf-c16e4e87a42c"
      },
      "execution_count": null,
      "outputs": [
        {
          "output_type": "stream",
          "name": "stdout",
          "text": [
            "Max : 497 \n",
            "Min : 323\n"
          ]
        }
      ]
    },
    {
      "cell_type": "code",
      "source": [
        "# 15\n",
        "a = np.arange(0,51)\n",
        "a[21:35] = 500\n",
        "a"
      ],
      "metadata": {
        "colab": {
          "base_uri": "https://localhost:8080/"
        },
        "id": "rt8xy6IdYjJS",
        "outputId": "34b9cdab-6986-4f17-fb0f-6bc947983d32"
      },
      "execution_count": null,
      "outputs": [
        {
          "output_type": "execute_result",
          "data": {
            "text/plain": [
              "array([  0,   1,   2,   3,   4,   5,   6,   7,   8,   9,  10,  11,  12,\n",
              "        13,  14,  15,  16,  17,  18,  19,  20, 500, 500, 500, 500, 500,\n",
              "       500, 500, 500, 500, 500, 500, 500, 500, 500,  35,  36,  37,  38,\n",
              "        39,  40,  41,  42,  43,  44,  45,  46,  47,  48,  49,  50])"
            ]
          },
          "metadata": {},
          "execution_count": 11
        }
      ]
    },
    {
      "cell_type": "code",
      "source": [
        "# done"
      ],
      "metadata": {
        "id": "iV62M6-OaTYN"
      },
      "execution_count": null,
      "outputs": []
    }
  ]
}